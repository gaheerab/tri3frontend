{
 "cells": [
  {
   "cell_type": "markdown",
   "id": "13fadae6",
   "metadata": {},
   "source": [
    "---\n",
    "layout: post\n",
    "title: Homework \n",
    "description: Ethan, Risha, Abby\n",
    "permalink: /homework\n",
    "menu: nav/teamteach.html\n",
    "---"
   ]
  },
  {
   "cell_type": "markdown",
   "id": "edd93576",
   "metadata": {},
   "source": [
    "# Homework Hacks \n",
    "Must complete at least 1 Random Algorithms Homework Hack and then the 1 Simulations Homework Hack. By doing 2/3 Hacks, you'll be graded on a scale of .9. By doing 3/3 Hacks, you'll be graded on a scale of .95.\n",
    "\n",
    "---"
   ]
  },
  {
   "cell_type": "markdown",
   "id": "b82a7178",
   "metadata": {},
   "source": [
    "# Random Algorithms \n",
    "\n",
    "## Homework Hack 1: Random Team Assignment\n",
    "\n",
    "**Objective:** Randomly assign students to teams for a group project.\n",
    "\n",
    "**Task:**\n",
    "\n",
    "- You are given a list of 15 students.\n",
    "- The goal is to randomly assign each student to one of 3 teams (be creative with the names)\n",
    "- Implement the random assignment:\n",
    "- Randomly assign each student to a team\n",
    "- Print out the list of students and their assigned teams.\n",
    "\n",
    "## Hack 2: Random Weather\n",
    "\n",
    "**Objective:** Generate random weather patterns over a set number of days.\n",
    "\n",
    "**Task:**\n",
    "\n",
    "- You're simulating the weather for a 7-day forecast.\n",
    "- The weather each day can be one of three options: Sunny, Cloudy, or Rainy.\n",
    "- Write a program  randomly selecting the weather type for each of the 7 days.\n",
    "- Print the weather for each day"
   ]
  },
  {
   "cell_type": "markdown",
   "id": "e1b003f6",
   "metadata": {},
   "source": [
    "---"
   ]
  },
  {
   "cell_type": "markdown",
   "id": "92a0479b",
   "metadata": {},
   "source": [
    "# Simulations\n",
    "\n",
    "## Homework Hack: Simulate a Random Coffee Shop Queue\n",
    "\n",
    "**Objective:** Simulate a random coffee shop queue and determine how long it takes for customers to get served.\n",
    "\n",
    "**Task:**\n",
    "Simulate a coffee shop with 5 customers. Each customer has a random service time (between 1 and 5 minutes).\n",
    "The coffee shop serves customers in the order they arrive.\n",
    "Calculate and print the total time it takes for all 5 customers to be served."
   ]
  },
  {
   "cell_type": "markdown",
   "id": "f8f149cd",
   "metadata": {},
   "source": [
    "---"
   ]
  },
  {
   "cell_type": "markdown",
   "id": "d8231df3",
   "metadata": {},
   "source": [
    "# [Homework Submission + MCQ ](https://docs.google.com/forms/d/e/1FAIpQLSecpn3NMfAQG05I_9P6X9P1s5vSyjr5UwiuNio3qgcYqIcdFg/viewform?usp=header)"
   ]
  }
 ],
 "metadata": {
  "language_info": {
   "name": "python"
  }
 },
 "nbformat": 4,
 "nbformat_minor": 5
}
