{
 "cells": [
  {
   "cell_type": "markdown",
   "metadata": {},
   "source": [
    "---\n",
    "layout: post\n",
    "title: Team Teach Simulations\n",
    "description: Ethan, Risha, Abby\n",
    "permalink: /simulationgames\n",
    "menu: nav/teamteach.html\n",
    "---"
   ]
  },
  {
   "cell_type": "markdown",
   "metadata": {},
   "source": [
    "# Defining Simulations: \n",
    "\n",
    "Simulations are the process of modeling a real-world system or process using a computer program. It allows users to draw inferences and investigate various phenomenas without constraints and real barriers. \n",
    "\n",
    "Simulation code is used in real life to model and predict complex systems, allowing people to test scenarios without real-world risks or costs. It's widely used in many industries, including engineering, science, business, and healthcare.\n",
    "\n",
    "---\n",
    "\n"
   ]
  },
  {
   "cell_type": "markdown",
   "metadata": {},
   "source": [
    "# Real Life Applications\n",
    "\n",
    "\n",
    "### 1. Engineering & Manufacturing\n",
    "\n",
    "- Product Testing: Engineers use simulation software like MATLAB, ANSYS, and SolidWorks to test designs before physically building prototypes.\n",
    "- Structural Analysis: Simulating stress, heat, and forces on materials to ensure safety in buildings, bridges, and vehicles.\n",
    "- Robotics: Testing robot movements and control algorithms in a virtual environment before real-world implementation.\n",
    "\n",
    "### 2. Healthcare & Medicine\n",
    "\n",
    "- Surgical Simulations: Virtual reality (VR) surgery training allows doctors to practice without risk to real patients.\n",
    "- Drug Development: Simulating how drugs interact with cells, reducing the need for extensive animal or human testing.\n",
    "- Epidemiology: Simulating the spread of diseases (e.g., COVID-19 models) to predict outbreaks and plan responses.\n",
    "\n",
    "### 3. Business & Finance\n",
    "\n",
    "- Market Simulations: Predicting stock market trends and investment risks.\n",
    "- Supply Chain Optimization: Simulating transportation and logistics to improve efficiency and reduce costs.\n",
    "- Risk Analysis: Banks and insurance companies simulate economic downturns to plan for financial stability.\n",
    "\n",
    "### 4. Aerospace & Automotive\n",
    "\n",
    "- Flight Simulators: Pilots train on realistic flight models before operating real aircraft.\n",
    "- Crash Testing: Simulating car crashes to improve vehicle safety without destroying real cars.\n",
    "- Space Exploration: NASA uses simulations to test space missions before launching.\n",
    "\n",
    "### 5. Entertainment & Game Development\n",
    "\n",
    "- Physics Engines: Games like Minecraft and GTA use physics simulations for realistic motion and interactions.\n",
    "- AI Behavior Modeling: Simulating human-like AI characters for video games and virtual assistants.\n",
    "- CGI & Animation: Special effects in movies use physics-based simulations for water, fire, and destruction scenes.\n",
    "\n",
    "### 6. Environmental & Weather Science\n",
    "\n",
    "- Climate Modeling: Predicting climate change effects using global simulation models.\n",
    "- Weather Forecasting: Simulating atmospheric conditions to predict storms, hurricanes, and rainfall.\n",
    "- Disaster Planning: Modeling tsunamis, earthquakes, and wildfires to prepare emergency responses.\n"
   ]
  },
  {
   "cell_type": "markdown",
   "metadata": {},
   "source": [
    "# Why Use Simulation Code?\n",
    "\n",
    "- Saves Money – No need for physical prototypes.\n",
    "- Reduces Risk – Test dangerous scenarios without real-world harm.\n",
    "- Improves Accuracy – Allows for fine-tuned predictions and optimizations.\n",
    "- Speeds Up Development – Quickly iterate on designs before production."
   ]
  },
  {
   "cell_type": "markdown",
   "metadata": {},
   "source": [
    "## Examples\n",
    "\n",
    "---"
   ]
  },
  {
   "cell_type": "markdown",
   "metadata": {},
   "source": [
    "### Dice Roll\n",
    "\n",
    "<img src=\"{{ site.baseurl }}/images/gamble.gif\" alt=\"gamble gif\" width=\"300\">"
   ]
  },
  {
   "cell_type": "markdown",
   "metadata": {},
   "source": [
    "This code utilizes the random.randint(1, 6) function to generate a random number between 1 and 6, just like an actual dice roll. Each time the program runs, it produces a different outcome, which replicates a real-life dice."
   ]
  },
  {
   "cell_type": "code",
   "execution_count": 23,
   "metadata": {},
   "outputs": [
    {
     "name": "stdout",
     "output_type": "stream",
     "text": [
      "Number: 5\n"
     ]
    }
   ],
   "source": [
    "import random\n",
    "\n",
    "def roll_dice():\n",
    "    return random.randint(1, 6)\n",
    "\n",
    "dice_roll = roll_dice()\n",
    "print(\"Number:\", dice_roll)"
   ]
  },
  {
   "cell_type": "markdown",
   "metadata": {},
   "source": [
    "## Popcorn Hack #1\n",
    "Instead of a dice roll, this time let's create a number spinner. Use the set up of the dice roll example to simulate a number spinner. Create whatever range of numbers you want and share your range and output with the class when finished! "
   ]
  },
  {
   "cell_type": "markdown",
   "metadata": {},
   "source": [
    "### Rock Paper Scissors\n",
    "\n",
    "\n",
    "<img src=\"{{ site.baseurl }}/images/rps.gif\" alt=\"rps gif\" width=\"300\">"
   ]
  },
  {
   "cell_type": "markdown",
   "metadata": {},
   "source": [
    "This Python script lets the user play Rock-Paper Scissors against the computer. The Rock-Paper-Scissors game mimics a real-world game by using randomness to generate the outcomes. The computer's choice is selected using random.choice(), which simulates the unpredictability of a real opponent. By repeatedly running this program, one can observe different possibilities and outcomes. "
   ]
  },
  {
   "cell_type": "code",
   "execution_count": 1,
   "metadata": {},
   "outputs": [
    {
     "name": "stdout",
     "output_type": "stream",
     "text": [
      "Computer chose: scissors\n",
      "You chose: scissors\n",
      "It's a tie!\n"
     ]
    }
   ],
   "source": [
    "import random\n",
    "\n",
    "def play_rock_paper_scissors():\n",
    "    choices = ['rock', 'paper', 'scissors']\n",
    "    computer_choice = random.choice(choices)\n",
    "    user_choice = input(\"Enter your choice (rock, paper, or scissors): \")\n",
    "\n",
    "    if user_choice not in choices:\n",
    "        print(\"Invalid choice. Please try again.\")\n",
    "        return\n",
    "\n",
    "    print(\"Computer chose:\", computer_choice)\n",
    "    print(\"You chose:\", user_choice)\n",
    "\n",
    "    if user_choice == computer_choice:\n",
    "        print(\"It's a tie!\")\n",
    "    elif (user_choice == 'rock' and computer_choice == 'scissors') or (user_choice == 'paper' and computer_choice == 'rock') or (user_choice == 'scissors' and computer_choice == 'paper'):\n",
    "        print(\"You win!\")\n",
    "    else:\n",
    "        print(\"You lose!\")\n",
    "\n",
    "play_rock_paper_scissors()"
   ]
  },
  {
   "cell_type": "markdown",
   "metadata": {},
   "source": [
    "## Popcorn Hack #2\n",
    "Use the same code from the Rock, Paper, Scissors simulation. Run the cell in your notebook and when prompted to, type out your choice of the three moves. Share your output with the class!"
   ]
  },
  {
   "cell_type": "markdown",
   "metadata": {},
   "source": [
    "# College Board Application: Looking at MCQ's\n",
    "In our previous MCQ's taken, questions on Big Idea 3.16 Simulations can be seen with code but also questions in conceptual form. Let's practice both! "
   ]
  },
  {
   "cell_type": "markdown",
   "metadata": {},
   "source": [
    "### Predicting Births with a Computer Model\n",
    "A population researcher is interested in predicting the number of births that will occur in a particular community. She created a computer model that uses data from the past ten years, including number of residents and the number of babies born. The model predicted that there would be 200 births last year, but the actual number of births last year was only 120.\n",
    "\n",
    "**Which of the following strategies is LEAST likely to provide a more accurate prediction?**\n",
    "- A: Gathering data for additional years to try to identify patterns in birth rates\n",
    "- B: Refining the model used in the computer simulation to more closely reflect the data from the past ten years\n",
    "- C: Removing as many details from the model as possible so that calculations can be performed quickly\n",
    "- D: Taking into consideration more information about the community, such as the ages of residents"
   ]
  },
  {
   "cell_type": "markdown",
   "metadata": {},
   "source": [
    "<button onclick=\"document.getElementById('answer').style.display='block'\">\n",
    "  Click Here for Answer!\n",
    "</button>\n",
    "\n",
    "<div id=\"answer\" style=\"display: none; margin-top: 10px;\">\n",
    "  <h3>Answer: C</h3>\n",
    "  <ul>\n",
    "    <li>Removing details from the model may help it run quickly, but is unlikely to provide more accurate results.</li>\n",
    "  </ul>\n",
    "</div>\n"
   ]
  },
  {
   "cell_type": "markdown",
   "metadata": {},
   "source": [
    "### Mouse and Predator Simulations\n",
    "A researcher wrote a program to simulate the number of mice in an environment that contains predators. The program uses the following procedures.\n",
    "\n",
    "\n",
    "| Procedure Call                                   | Explanation                                                                 |\n",
    "|--------------------------------------------------|-----------------------------------------------------------------------------|\n",
    "| `InitialMousePopulation()`                       | Returns the number of mice at the start of the simulation                  |\n",
    "| `InitialPredatorPopulation()`                    | Returns the number of predators at the start of the simulation             |\n",
    "| `NextDayPopulation(numberOfMice, numberOfPredators)` | Based on the current numbers of mice and predators, returns the number of mice after one day |\n",
    "\n",
    "\n",
    "\n",
    "Code for the simulation is shown below.\n"
   ]
  },
  {
   "cell_type": "raw",
   "metadata": {
    "vscode": {
     "languageId": "raw"
    }
   },
   "source": [
    "days ← 0\n",
    "numMice ← InitialMousePopulation()\n",
    "numPredators ← InitialPredatorPopulation()\n",
    "REPEAT UNTIL (days = 365)\n",
    "{\n",
    "    numMice ← NextDayPopulation(numMice, numPredators)\n",
    "    days ← days + 1\n",
    "}\n",
    "DISPLAY(\"There are\")\n",
    "DISPLAY(numMice)\n",
    "DISPLAY(\"mice after one year.\")\n"
   ]
  },
  {
   "cell_type": "markdown",
   "metadata": {},
   "source": [
    "**Based on the code, which of the following assumptions is made in the simulation?**"
   ]
  },
  {
   "cell_type": "markdown",
   "metadata": {},
   "source": [
    "\n",
    "- A: The number of mice increases by 1 each day.\n",
    "- B: The number of mice does not change from day to day.\n",
    "- C: The number of predators increases by 1 each day.\n",
    "- D: The number of predators does not change from day to day."
   ]
  },
  {
   "cell_type": "markdown",
   "metadata": {},
   "source": [
    "<button onclick=\"document.getElementById('answer').style.display='block'\">\n",
    "  Click Here for Answer!\n",
    "</button>\n",
    "\n",
    "<div id=\"answer2\" style=\"display: none; margin-top: 10px;\">\n",
    "  <h3>Answer: D</h3>\n",
    "  <ul>\n",
    "    <li>The number of predators is initialized at the beginning of the program but is never updated.</li>\n",
    "  </ul>\n",
    "</div>\n"
   ]
  },
  {
   "cell_type": "markdown",
   "metadata": {},
   "source": [
    "<script src=\"https://utteranc.es/client.js\"\n",
    "        repo=\"tri3frontend/gaheerab\"\n",
    "        issue-term=\"pathname\"\n",
    "        theme=\"github-light\"\n",
    "        crossorigin=\"anonymous\"\n",
    "        async>\n",
    "</script>"
   ]
  }
 ],
 "metadata": {
  "kernelspec": {
   "display_name": "venv",
   "language": "python",
   "name": "python3"
  },
  "language_info": {
   "codemirror_mode": {
    "name": "ipython",
    "version": 3
   },
   "file_extension": ".py",
   "mimetype": "text/x-python",
   "name": "python",
   "nbconvert_exporter": "python",
   "pygments_lexer": "ipython3",
   "version": "3.12.3"
  }
 },
 "nbformat": 4,
 "nbformat_minor": 2
}
