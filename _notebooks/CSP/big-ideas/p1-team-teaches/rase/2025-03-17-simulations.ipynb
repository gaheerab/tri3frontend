{
 "cells": [
  {
   "cell_type": "markdown",
   "metadata": {},
   "source": [
    "---\n",
    "toc: true\n",
    "comments: false\n",
    "layout: post\n",
    "categories: [CSP Big Idea 4]\n",
    "title: Team Teach Simulations\n",
    "description: Team Teach Group 1\n",
    "courses: { csp: {week: 13 } }\n",
    "type: ccc\n",
    "---"
   ]
  },
  {
   "cell_type": "markdown",
   "metadata": {},
   "source": [
    "## Definition: \n",
    "\n",
    "Simulations are the process of modeling a real-world system or process using a computer program. It allows users to draw inferences and investigate various phenomenas without constraints and real barriers. "
   ]
  },
  {
   "cell_type": "markdown",
   "metadata": {},
   "source": [
    "## Examples\n",
    "\n",
    "---"
   ]
  },
  {
   "cell_type": "code",
   "execution_count": 23,
   "metadata": {},
   "outputs": [
    {
     "name": "stdout",
     "output_type": "stream",
     "text": [
      "Number: 5\n"
     ]
    }
   ],
   "source": [
    "import random\n",
    "\n",
    "def roll_dice():\n",
    "    return random.randint(1, 6)\n",
    "\n",
    "dice_roll = roll_dice()\n",
    "print(\"Number:\", dice_roll)"
   ]
  },
  {
   "cell_type": "markdown",
   "metadata": {},
   "source": [
    "This code utilizes the random.randint(1, 6) function to generate a random number between 1 and 6, just like an actual dice roll. Each time the program runs, it produces a different outcome, which replicates a real-life dice."
   ]
  },
  {
   "cell_type": "code",
   "execution_count": 28,
   "metadata": {},
   "outputs": [
    {
     "name": "stdout",
     "output_type": "stream",
     "text": [
      "Computer chose: paper\n",
      "You chose: paper\n",
      "It's a tie!\n"
     ]
    }
   ],
   "source": [
    "import random\n",
    "\n",
    "def play_rock_paper_scissors():\n",
    "    choices = ['rock', 'paper', 'scissors']\n",
    "    computer_choice = random.choice(choices)\n",
    "    user_choice = input(\"Enter your choice (rock, paper, or scissors): \")\n",
    "\n",
    "    if user_choice not in choices:\n",
    "        print(\"Invalid choice. Please try again.\")\n",
    "        return\n",
    "\n",
    "    print(\"Computer chose:\", computer_choice)\n",
    "    print(\"You chose:\", user_choice)\n",
    "\n",
    "    if user_choice == computer_choice:\n",
    "        print(\"It's a tie!\")\n",
    "    elif (user_choice == 'rock' and computer_choice == 'scissors') or (user_choice == 'paper' and computer_choice == 'rock') or (user_choice == 'scissors' and computer_choice == 'paper'):\n",
    "        print(\"You win!\")\n",
    "    else:\n",
    "        print(\"You lose!\")\n",
    "\n",
    "play_rock_paper_scissors()"
   ]
  },
  {
   "cell_type": "markdown",
   "metadata": {},
   "source": [
    "This Python script lets the user play Rock-Paper Scissors against the computer. The Rock-Paper-Scissors game mimics a real-world game by using randomness to generate the outcomes. The computer's choice is selected using random.choice(), which simulates the unpredictability of a real opponent. By repeatedly running this program, one can observe different possibilities and outcomes. "
   ]
  },
  {
   "cell_type": "markdown",
   "metadata": {},
   "source": [
    "## Popcorn Hack #1"
   ]
  },
  {
   "cell_type": "markdown",
   "metadata": {},
   "source": [
    "Your task: Enable user reaction. Modify the code so that it lets the user flip the coin by pressing enter. "
   ]
  },
  {
   "cell_type": "code",
   "execution_count": 7,
   "metadata": {},
   "outputs": [
    {
     "name": "stdout",
     "output_type": "stream",
     "text": [
      "After 10 tosses:\n",
      "Heads came up 5 times.\n",
      "Tails came up 5 times.\n",
      "It's a tie!\n"
     ]
    }
   ],
   "source": [
    "import random\n",
    "# Step 1: Define the simulation parameters\n",
    "num_tosses = 10\n",
    "# Step 2: Initialize counters for heads and tails\n",
    "heads_count = 0\n",
    "tails_count = 0\n",
    "# Step 3: Simulate the coin tosses\n",
    "for i in range(num_tosses):\n",
    "    toss = random.choice(['Heads', 'Tails'])  # Randomly pick 'Heads' or 'Tails'\n",
    "    # Step 4: Count the occurrences\n",
    "    if toss == 'Heads':\n",
    "        heads_count += 1\n",
    "    else:\n",
    "        tails_count += 1\n",
    "# Step 5: Display the results\n",
    "print(f\"After {num_tosses} tosses:\")\n",
    "print(f\"Heads came up {heads_count} times.\")\n",
    "print(f\"Tails came up {tails_count} times.\")\n",
    "# Step 6: Simulate a win condition\n",
    "if heads_count > tails_count:\n",
    "    print(\"Heads wins!\")\n",
    "elif tails_count > heads_count:\n",
    "    print(\"Tails wins!\")\n",
    "else:\n",
    "    print(\"It's a tie!\")"
   ]
  },
  {
   "cell_type": "code",
   "execution_count": null,
   "metadata": {},
   "outputs": [],
   "source": [
    "## ANSWER TO POPCORNHACK 1. MAKE COLLAPSABLE\n",
    "\n",
    "import random\n",
    "import time\n",
    "\n",
    "# Step 1: Define the simulation parameters\n",
    "num_tosses = 10\n",
    "\n",
    "# Step 2: Initialize counters for heads and tails\n",
    "heads_count = 0\n",
    "tails_count = 0\n",
    "\n",
    "# Step 3: Simulate the coin tosses with user interaction\n",
    "print(\"Press Enter to flip the coin!\")\n",
    "for i in range(num_tosses):\n",
    "    input(f\"Toss {i + 1}: Press Enter to flip...\")  # Wait for user to press Enter\n",
    "    print(\"Flipping...\")\n",
    "    time.sleep(0.5)  # Add a slight delay for realism\n",
    "    \n",
    "    toss = random.choice(['Heads', 'Tails'])  # Randomly pick 'Heads' or 'Tails'\n",
    "    print(f\"The coin landed on: {toss}\\n\")\n",
    "    \n",
    "    # Step 4: Count the occurrences\n",
    "    if toss == 'Heads':\n",
    "        heads_count += 1\n",
    "    else:\n",
    "        tails_count += 1\n",
    "\n",
    "# Step 5: Display the results\n",
    "print(f\"After {num_tosses} tosses:\")\n",
    "print(f\"Heads came up {heads_count} times.\")\n",
    "print(f\"Tails came up {tails_count} times.\")\n",
    "\n",
    "# Step 6: Simulate a win condition\n",
    "if heads_count > tails_count:\n",
    "    print(\"Heads wins!\")\n",
    "elif tails_count > heads_count:\n",
    "    print(\"Tails wins!\")\n",
    "else:\n",
    "    print(\"It's a tie!\")\n"
   ]
  },
  {
   "cell_type": "markdown",
   "metadata": {},
   "source": [
    "## Homework Hack "
   ]
  },
  {
   "cell_type": "markdown",
   "metadata": {},
   "source": [
    "### Homework Hack: Simulate a Random Coffee Shop Queue\n",
    "\n",
    "\n",
    "- Objective: Simulate a random coffee shop queue and determine how long it takes for customers to get served.\n",
    "- Task:\n",
    "Simulate a coffee shop with 5 customers. Each customer has a random service time (between 1 and 5 minutes).\n",
    "The coffee shop serves customers in the order they arrive.\n",
    "Calculate and print the total time it takes for all 5 customers to be served."
   ]
  },
  {
   "cell_type": "markdown",
   "metadata": {},
   "source": [
    "## Submission Link: \n",
    "https://docs.google.com/forms/d/1f1oSaKV7gQz8H3ZEaAP2SV-WaP2S0KUmKoAqnZNeZnI/edit?ts=67dc4439"
   ]
  },
  {
   "cell_type": "markdown",
   "metadata": {},
   "source": []
  }
 ],
 "metadata": {
  "kernelspec": {
   "display_name": "Python 3",
   "language": "python",
   "name": "python3"
  },
  "language_info": {
   "codemirror_mode": {
    "name": "ipython",
    "version": 3
   },
   "file_extension": ".py",
   "mimetype": "text/x-python",
   "name": "python",
   "nbconvert_exporter": "python",
   "pygments_lexer": "ipython3",
   "version": "3.9.6"
  }
 },
 "nbformat": 4,
 "nbformat_minor": 2
}
