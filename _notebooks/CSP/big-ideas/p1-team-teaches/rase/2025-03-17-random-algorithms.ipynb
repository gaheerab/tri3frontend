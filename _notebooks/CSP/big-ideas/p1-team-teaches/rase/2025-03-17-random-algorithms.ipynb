{
 "cells": [
  {
   "cell_type": "markdown",
   "metadata": {},
   "source": [
    "---\n",
    "layout: post\n",
    "title: Random Algorithms\n",
    "description: Team Teach Group 1\n",
    "permalink: /randomalgorithms \n",
    "menu: /nav/teamteach.html\n",
    "---"
   ]
  },
  {
   "cell_type": "markdown",
   "metadata": {},
   "source": [
    "# Random Algorithms \n",
    "\n",
    "\n",
    "<img src=\"{{ site.baseurl }}/images/bingo.gif\" alt=\"bingo gif\" width=\"300\">\n",
    "\n",
    "---\n",
    "\n",
    "### College Board Big Ideas\n",
    "- 3.9 Developing Algorithms \n",
    "- 3.15 Random Values  \n"
   ]
  },
  {
   "cell_type": "markdown",
   "metadata": {},
   "source": [
    "# Popcorn Hack #1: Brainstorm\n",
    "What do you think a random algorithm is? What would be reason to use random algorithms in real-life coding situations? What kind of questions do you think College Board will ask regarding Random Algorithms?  "
   ]
  },
  {
   "cell_type": "markdown",
   "metadata": {},
   "source": [
    "# Defining Random Algorithms \n",
    "Random algorithms are used to pick a random value from a certain set. We can use random algorithms to make simulations that model the real world.\n"
   ]
  },
  {
   "cell_type": "markdown",
   "metadata": {},
   "source": [
    "# Real Life Application \n",
    "Random algorithms, also known as randomized algorithms, are used in various real-life applications where randomness can improve efficiency, ensure fairness, or handle uncertainty. Here are some key areas where they are applied:"
   ]
  },
  {
   "cell_type": "markdown",
   "metadata": {},
   "source": [
    "\n",
    "### 1. Cryptography & Cybersecurity\n",
    "\n",
    "- Secure encryption (e.g., RSA, AES) relies on random key generation.\n",
    "- Hashing algorithms use randomness to secure passwords.\n",
    "- Secure communication protocols like SSL/TLS use random numbers for authentication.\n",
    "\n",
    "### 2. Machine Learning & AI\n",
    "\n",
    "- Random forest algorithms for classification and decision-making.\n",
    "- Stochastic gradient descent (SGD) for training deep learning models.\n",
    "- Data sampling and augmentation for model generalization.\n",
    "\n",
    "### 3. Computational Biology & Medicine\n",
    "\n",
    "- Genetic algorithms simulate evolution to find optimal solutions.\n",
    "- Monte Carlo simulations model biological processes.\n",
    "- Randomized clinical trials ensure unbiased medical research.\n",
    "\n",
    "### 4. Finance & Stock Market\n",
    "\n",
    "- Monte Carlo simulations for risk assessment and option pricing.\n",
    "- Algorithmic trading strategies use randomization to prevent exploitation.\n",
    "- Portfolio diversification strategies use randomness to reduce risk.\n",
    "\n",
    "### 5. Networking & Load Balancing\n",
    "\n",
    "- Randomized routing algorithms distribute network traffic efficiently.\n",
    "- Load balancers use random selection to distribute requests among servers.\n",
    "- Backoff algorithms in TCP/IP networking use randomness to avoid collisions.\n",
    "\n",
    "### 6. Gaming & Simulations\n",
    "\n",
    "- Procedural generation in video games (e.g., terrain, maps, AI behaviors).\n",
    "- Randomized AI behaviors make games more unpredictable.\n",
    "- Monte Carlo methods are used in physics-based simulations.\n",
    "\n",
    "### 7. Optimization Problems\n",
    "\n",
    "- Simulated annealing for finding near-optimal solutions.\n",
    "- Randomized search algorithms in large datasets.\n",
    "- Genetic algorithms for engineering design and problem-solving.\n",
    "\n",
    "### 8. Fairness & Decision-Making\n",
    "\n",
    "- Randomized voting methods reduce bias in elections.\n",
    "- Randomized controlled trials (RCTs) in social science research.\n",
    "- Lottery systems for resource allocation (e.g., visas, schools).m"
   ]
  },
  {
   "cell_type": "markdown",
   "metadata": {},
   "source": [
    "# Random Python Module\n",
    "Random is also a python function. It can be used by importing the random module. "
   ]
  },
  {
   "cell_type": "markdown",
   "metadata": {},
   "source": [
    "## List generator example"
   ]
  },
  {
   "cell_type": "markdown",
   "metadata": {},
   "source": [
    "### Mr Mort's joke randomizer example\n",
    "This first example comes from the Github Pages Playground project in Trimester 1. Mr Mort uses random to generate jokes from te compsci_joke_list. Use the following steps to see the printed message. \n",
    "- In VSCode, go to Help->Toggle Developer Tools\n",
    "- Click on Console in the newly opened Window\n",
    "- Clear screen by pressing Clear Console (circle with line)\n",
    "- Then press Play button to left of cell\n",
    "- Observe random output in Console"
   ]
  },
  {
   "cell_type": "code",
   "execution_count": null,
   "metadata": {
    "vscode": {
     "languageId": "javascript"
    }
   },
   "outputs": [
    {
     "data": {
      "application/javascript": "\nvar compsci_joke_list = [\n    { joke: \"Why do programmers prefer dark mode? Because light attracts bugs.\", complexity: \"O(1)\" },\n    { joke: \"Why do Java developers wear glasses? Because they don't see sharp.\", complexity: \"O(1)\" },\n    { joke: \"How many programmers does it take to change a light bulb? None, that's a hardware problem.\", complexity: \"O(1)\" },\n    { joke: \"Why do programmers hate nature? It has too many bugs.\", complexity: \"O(n)\" },\n    { joke: \"Why do Python programmers prefer snake_case? Because they can't C.\", complexity: \"O(1)\" },\n    { joke: \"Why was the JavaScript developer sad? Because he didn't know how to 'null' his feelings.\", complexity: \"O(1)\" },\n    { joke: \"Why do programmers always mix up Christmas and Halloween? Because Oct 31 == Dec 25.\", complexity: \"O(1)\" },\n    { joke: \"Why did the programmer quit his job? Because he didn't get arrays.\", complexity: \"O(n)\" },\n    { joke: \"Why do programmers prefer using the terminal? Because they don't like Windows.\", complexity: \"O(1)\" },\n    { joke: \"Why was the function sad after a breakup? It couldn't find its closure.\", complexity: \"O(1)\" }\n];\nvar randomIndex = Math.floor(Math.random() * compsci_joke_list.length);\nvar selectedJoke = compsci_joke_list[randomIndex];\nconsole.log(\"Joke #\" + (randomIndex + 1) + \": \" + selectedJoke.joke + \" (Complexity: \" + selectedJoke.complexity + \")\");\n",
      "text/plain": [
       "<IPython.core.display.Javascript object>"
      ]
     },
     "metadata": {},
     "output_type": "display_data"
    }
   ],
   "source": [
    "%%javascript\n",
    "\n",
    "var compsci_joke_list = [\n",
    "    { joke: \"Why do programmers prefer dark mode? Because light attracts bugs.\", complexity: \"O(1)\" },\n",
    "    { joke: \"Why do Java developers wear glasses? Because they don't see sharp.\", complexity: \"O(1)\" },\n",
    "    { joke: \"How many programmers does it take to change a light bulb? None, that's a hardware problem.\", complexity: \"O(1)\" },\n",
    "    { joke: \"Why do programmers hate nature? It has too many bugs.\", complexity: \"O(n)\" },\n",
    "    { joke: \"Why do Python programmers prefer snake_case? Because they can't C.\", complexity: \"O(1)\" },\n",
    "    { joke: \"Why was the JavaScript developer sad? Because he didn't know how to 'null' his feelings.\", complexity: \"O(1)\" },\n",
    "    { joke: \"Why do programmers always mix up Christmas and Halloween? Because Oct 31 == Dec 25.\", complexity: \"O(1)\" },\n",
    "    { joke: \"Why did the programmer quit his job? Because he didn't get arrays.\", complexity: \"O(n)\" },\n",
    "    { joke: \"Why do programmers prefer using the terminal? Because they don't like Windows.\", complexity: \"O(1)\" },\n",
    "    { joke: \"Why was the function sad after a breakup? It couldn't find its closure.\", complexity: \"O(1)\" }\n",
    "];\n",
    "var randomIndex = Math.floor(Math.random() * compsci_joke_list.length);\n",
    "var selectedJoke = compsci_joke_list[randomIndex];\n",
    "console.log(\"Joke #\" + (randomIndex + 1) + \": \" + selectedJoke.joke + \" (Complexity: \" + selectedJoke.complexity + \")\");"
   ]
  },
  {
   "cell_type": "markdown",
   "metadata": {},
   "source": [
    "# Popcorn Hacks\n"
   ]
  },
  {
   "cell_type": "markdown",
   "metadata": {},
   "source": [
    "## Popcorn Hack #3 (Python)"
   ]
  },
  {
   "cell_type": "markdown",
   "metadata": {},
   "source": [
    "Copy and Paste this code into a Python cell in your jupyter notebook, change the types of activities, and see which activity you created gets chosen. Once everyone is done, share your results! "
   ]
  },
  {
   "cell_type": "code",
   "execution_count": null,
   "metadata": {},
   "outputs": [],
   "source": [
    "# Popcorn Hack Number 1 (Random): Make a random algorithm to choose a daily activity:\n",
    "import random\n",
    "# Step 1: Define a list of activities\n",
    "activities = ['Go for a walk', 'Read a book', 'Call a friend', 'Try a new recipe', 'Watch a movie', 'Take a nap', 'Go for a run', 'Write in a journal', 'Meditate', 'Listen to music', 'Be productive and do your homework']\n",
    "# Step 2: Randomly choose an activity\n",
    "random_activity = random.choice(activities)\n",
    "# Step 3: Display the chosen activity\n",
    "print(f\"Today’s random activity: {random_activity}\")"
   ]
  },
  {
   "cell_type": "markdown",
   "metadata": {},
   "source": [
    "# Popcorn Hack #4 (Python)\n",
    "You and your team are hosting a party. With your team, make a random algorithm to help them decide which person should monitor which activity. Copy and Paste this code into a Python cell in your jupyter notebook, change the names and types of activities, and see which gets chosen. "
   ]
  },
  {
   "cell_type": "code",
   "execution_count": null,
   "metadata": {},
   "outputs": [],
   "source": [
    "# Popcorn Hack Number 2: Using a loops in random\n",
    "# This popcorn hack assigns an activity to each person\n",
    "import random\n",
    "hosts = ['Abby', 'Ethan', 'Risha', 'Soumini', 'Shriya']\n",
    "activities = ['dancing', 'games', 'snack center', 'photo booth', 'karaoke']\n",
    "# Randomly shuffle the list of activities to assign them randomly to the guests\n",
    "random.shuffle(activities)\n",
    "# Loop through each guest and assign them a random activity\n",
    "for i in range(len(hosts)):\n",
    "    print(f\"{hosts[i]} will be monitoring {activities[i]}!\")"
   ]
  },
  {
   "cell_type": "markdown",
   "metadata": {},
   "source": [
    "# College Board Psuedocode \n",
    "On the multiple choice exam, there will be questions asking about random number generators. This section focuses on what collegeboard is looking for on random algorithms. \n",
    "\n",
    "## Example Question\n",
    "![RNG]({{ site.baseurl }}/images/rng.png) "
   ]
  },
  {
   "cell_type": "markdown",
   "metadata": {},
   "source": [
    "<button onclick=\"document.getElementById('answer').style.display='block'\">\n",
    "  Click Here for Answer!\n",
    "</button>\n",
    "\n",
    "<div id=\"answer\" style=\"display: none; margin-top: 10px;\">\n",
    "  <h3>Answer: C</h3>\n",
    "  <ul>\n",
    "    <li>3 isn't a possible choice for the first iteration</li>\n",
    "    <li>pick is only going to be from 1 to 2 on the first time since i is 2</li>\n",
    "  </ul>\n",
    "</div>\n"
   ]
  },
  {
   "cell_type": "markdown",
   "metadata": {},
   "source": [
    "# Homework "
   ]
  },
  {
   "cell_type": "markdown",
   "metadata": {},
   "source": [
    "## Homework Hack 1: Random Team Assignment\n",
    "**Objective:** Randomly assign students to teams for a group project.\n",
    "**Task:**\n",
    "- You are given a list of 15 students.\n",
    "- The goal is to randomly assign each student to one of 3 teams (be creative with the names)\n",
    "- Implement the random assignment:\n",
    "- Randomly assign each student to a team\n",
    "- Print out the list of students and their assigned teams."
   ]
  },
  {
   "cell_type": "markdown",
   "metadata": {},
   "source": [
    "## Hack 2: Random Weather\n",
    "**Objective:** Generate random weather patterns over a set number of days.\n",
    "**Task:**\n",
    "- You're simulating the weather for a 7-day forecast.\n",
    "- The weather each day can be one of three options: Sunny, Cloudy, or Rainy.\n",
    "- Write a program  randomly selecting the weather type for each of the 7 days.\n",
    "- Print the weather for each day"
   ]
  },
  {
   "cell_type": "markdown",
   "metadata": {},
   "source": [
    "## Hack 3: MCQ Quiz\n",
    "Complete the MCQ questions on the homework submission form before sending the link at the end."
   ]
  },
  {
   "cell_type": "markdown",
   "metadata": {},
   "source": [
    "<script src=\"https://utteranc.es/client.js\"\n",
    "        repo=\"tri3frontend/gaheerab\"\n",
    "        issue-term=\"pathname\"\n",
    "        theme=\"github-light\" \n",
    "        crossorigin=\"anonymous\"\n",
    "        async>\n",
    "</script>"
   ]
  },
  {
   "cell_type": "markdown",
   "metadata": {},
   "source": [
    "[Homework Submission](https://docs.google.com/forms/d/e/1FAIpQLSecpn3NMfAQG05I_9P6X9P1s5vSyjr5UwiuNio3qgcYqIcdFg/viewform?usp=header)"
   ]
  }
 ],
 "metadata": {
  "kernelspec": {
   "display_name": "venv",
   "language": "python",
   "name": "python3"
  },
  "language_info": {
   "codemirror_mode": {
    "name": "ipython",
    "version": 3
   },
   "file_extension": ".py",
   "mimetype": "text/x-python",
   "name": "python",
   "nbconvert_exporter": "python",
   "pygments_lexer": "ipython3",
   "version": "3.12.3"
  }
 },
 "nbformat": 4,
 "nbformat_minor": 2
}
