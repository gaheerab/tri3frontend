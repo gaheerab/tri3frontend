{
 "cells": [
  {
   "cell_type": "markdown",
   "metadata": {},
   "source": [
    "---\n",
    "toc: true\n",
    "comments: false\n",
    "layout: post\n",
    "categories: [CSP Big Idea 4]\n",
    "title: Random Algorithms\n",
    "description: Team Teach Group 1\n",
    "courses: { csp: {week: 13 } }\n",
    "type: ccc\n",
    "permalink: /randomalgorithms \n",
    "---"
   ]
  },
  {
   "cell_type": "markdown",
   "metadata": {},
   "source": [
    "# Random Algorithms \n",
    "\n",
    "### College Board Big Ideas\n",
    "- 3.9 Developing Algorithms \n",
    "- 3.15 Random Values \n"
   ]
  },
  {
   "cell_type": "markdown",
   "metadata": {},
   "source": [
    "# Defining Random Algorithms \n",
    "Random algorithms are used to pick a random value from a certain set. We can use random algorithms to make simulations that model the real world.\n"
   ]
  },
  {
   "cell_type": "markdown",
   "metadata": {},
   "source": [
    "# Random Python Module\n",
    "Random is also a python function. It can be used by importing the random module. "
   ]
  },
  {
   "cell_type": "markdown",
   "metadata": {},
   "source": [
    "popcorn hack here"
   ]
  },
  {
   "cell_type": "markdown",
   "metadata": {},
   "source": [
    "# College Board Psuedocode \n",
    "On the multiple choice exam, there will be questions asking about random number generators. This section focuses on what collegeboard is looking for on random algorithms. \n",
    "\n",
    "![RNG]({{ site.baseurl }}/rng.png)\n"
   ]
  }
 ],
 "metadata": {
  "language_info": {
   "name": "python"
  }
 },
 "nbformat": 4,
 "nbformat_minor": 2
}
