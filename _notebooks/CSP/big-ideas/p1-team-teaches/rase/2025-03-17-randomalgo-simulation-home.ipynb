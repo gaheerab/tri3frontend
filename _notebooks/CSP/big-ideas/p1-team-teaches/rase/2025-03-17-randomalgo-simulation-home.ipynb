{
 "cells": [
  {
   "cell_type": "code",
   "execution_count": null,
   "metadata": {
    "vscode": {
     "languageId": "yaml"
    }
   },
   "outputs": [],
   "source": [
    "---\n",
    "toc: true\n",
    "comments: false\n",
    "layout: post\n",
    "categories: [CSP Big Idea 4]\n",
    "title: Team Teach Simulations\n",
    "description: Team Teach Group 1\n",
    "courses: { csp: {week: 13 } }\n",
    "type: ccc\n",
    "permalink: /randomalgosimulationgames\n",
    "menu: nav/teamteach.html\n",
    "---"
   ]
  },
  {
   "cell_type": "markdown",
   "metadata": {},
   "source": [
    "# Random Algorithms and Simulation Games\n",
    "Abby, Ethan, Soumini, Risha \n",
    "\n",
    "\n",
    "Before we start our lesson, please do the following:\n",
    "- Open our lesson on your own computer to copy and paste code cells for Popcorn Hacks, or download our [random algorithm lesson](https://github.com/gaheerab/tri3frontend/blob/main/_notebooks/CSP/big-ideas/p1-team-teaches/rase/2025-03-17-random-algorithms.ipynb) and our [simulation lesson](https://github.com/gaheerab/tri3frontend/blob/main/_notebooks/CSP/big-ideas/p1-team-teaches/rase/2025-03-17-simulations.ipynb)\n",
    "- Create your own notebook for your popcorn hacks and homework\n",
    "\n",
    "\n"
   ]
  },
  {
   "cell_type": "markdown",
   "metadata": {},
   "source": [
    "<script src=\"https://utteranc.es/client.js\"\n",
    "        repo=\"tri3frontend/gaheerab\"\n",
    "        issue-term=\"pathname\"\n",
    "        theme=\"github-light\"\n",
    "        crossorigin=\"anonymous\"\n",
    "        async>\n",
    "</script>"
   ]
  }
 ],
 "metadata": {
  "language_info": {
   "name": "python"
  }
 },
 "nbformat": 4,
 "nbformat_minor": 2
}
