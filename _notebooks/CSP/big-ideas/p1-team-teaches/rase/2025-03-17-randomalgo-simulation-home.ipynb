{
 "cells": [
  {
   "cell_type": "markdown",
   "metadata": {},
   "source": [
    "---\n",
    "toc: true\n",
    "comments: false\n",
    "layout: post\n",
    "categories: [CSP Big Idea 4]\n",
    "title: Team Teach Simulations\n",
    "description: Team Teach Group 1\n",
    "courses: { csp: {week: 13 } }\n",
    "type: ccc\n",
    "---"
   ]
  },
  {
   "cell_type": "markdown",
   "metadata": {},
   "source": [
    "# Random Algorithms and Simulation Games\n",
    "Abby, Ethan, Soumini, Risha \n",
    "\n",
    "\n",
    "**Please create a jupyter notebook for your popcorn and homework hacks**\n",
    "\n",
    "[Homework Submission](https://docs.google.com/forms/d/e/1FAIpQLSecpn3NMfAQG05I_9P6X9P1s5vSyjr5UwiuNio3qgcYqIcdFg/viewform?usp=header)"
   ]
  }
 ],
 "metadata": {
  "language_info": {
   "name": "python"
  }
 },
 "nbformat": 4,
 "nbformat_minor": 2
}
