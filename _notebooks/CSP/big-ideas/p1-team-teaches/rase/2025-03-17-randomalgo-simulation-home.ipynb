{
 "cells": [
  {
   "cell_type": "code",
   "execution_count": null,
   "metadata": {
    "vscode": {
     "languageId": "yaml"
    }
   },
   "outputs": [],
   "source": [
    "---\n",
    "toc: true\n",
    "comments: false\n",
    "layout: post\n",
    "categories: [CSP Big Idea 4]\n",
    "title: Team Teach Simulations\n",
    "description: Team Teach Group 1\n",
    "courses: { csp: {week: 13 } }\n",
    "type: ccc\n",
    "permalink: /randomalgosimulationgames\n",
    "menu: nav/teamteach.html\n",
    "---"
   ]
  },
  {
   "cell_type": "markdown",
   "metadata": {},
   "source": [
    "# Random Algorithms and Simulation Games\n",
    "Abby, Ethan, Soumini, Risha \n",
    "\n",
    "\n",
    "**Please create a jupyter notebook for your popcorn and homework hacks. This should be one singular note book for both random algorithms and simulation games**\n",
    "\n",
    "[Homework Submission](https://docs.google.com/forms/d/e/1FAIpQLSecpn3NMfAQG05I_9P6X9P1s5vSyjr5UwiuNio3qgcYqIcdFg/viewform?usp=header)"
   ]
  },
  {
   "cell_type": "markdown",
   "metadata": {},
   "source": [
    "| **Grading Rubric** |\n",
    "|---------------|\n",
    "| Grade (%)** | Reasoning |\n",
    "| 55 | No submission |\n",
    "| 70-85 | Minimal effort shown or lack of correctness |\n",
    "| 85-95 | It's clear that time and effort was spent on the assignment. Meeting most of the requirements/finished most of the hacks with effort and correctness |\n",
    "| 95-100 | Going beyond assignment with correctness |\n"
   ]
  },
  {
   "cell_type": "markdown",
   "metadata": {},
   "source": [
    "<script src=\"https://utteranc.es/client.js\"\n",
    "        repo=\"tri3frontend/gaheerab\"\n",
    "        issue-term=\"pathname\"\n",
    "        theme=\"github-light\"\n",
    "        crossorigin=\"anonymous\"\n",
    "        async>\n",
    "</script>"
   ]
  }
 ],
 "metadata": {
  "language_info": {
   "name": "python"
  }
 },
 "nbformat": 4,
 "nbformat_minor": 2
}
