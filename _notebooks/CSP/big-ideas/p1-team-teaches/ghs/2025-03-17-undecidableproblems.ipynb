{
 "cells": [
  {
   "cell_type": "markdown",
   "metadata": {},
   "source": [
    "---\n",
    "toc: true\n",
    "comments: false\n",
    "layout: post\n",
    "categories: [CSP Big Idea 4]\n",
    "title: Team Teach Group 1\n",
    "description: Undecidable Problems \n",
    "courses: { csp: {week: 13 } }\n",
    "type: ccc\n",
    "permalink: /csp/period1/graphshueristics\n",
    "---"
   ]
  },
  {
   "cell_type": "markdown",
   "metadata": {},
   "source": [
    "# **Undecidable and Decidable Problems in Computer Science**\n",
    "\n",
    "## **Undecidable Problems**\n",
    "An **undecidable problem** is a problem for which no algorithm can be constructed that will always provide a correct yes/no answer for all possible inputs.\n",
    "\n",
    "### **Key Characteristics:**\n",
    "- No single algorithm can always provide a correct answer.\n",
    "- Some instances may have a solution, but no algorithm can solve *all* instances.\n",
    "- A classic example is **the Halting Problem**.\n",
    "\n",
    "### **Example: The Halting Problem**\n",
    "Alan Turing introduced the **Halting Problem**, which asks whether a given computer program will eventually stop (halt) or continue running forever when given a specific input.\n",
    "\n",
    "- Alan Turing proved that it is **impossible** to create an algorithm that can determine whether *every possible program* will halt or run forever.\n",
    "- Sometimes a program might take an unreasonable amount of time to reach an ending—if it even exists.\n",
    "\n",
    "### **Real-World Analogy: A Website Taking Too Long to Load**\n",
    "Imagine you click on a website, and it just keeps loading indefinitely.  \n",
    "- Is the page taking a long time to load, or will it **never load**?\n",
    "- There is **no general way** to determine if the website will ever finish loading.\n",
    "- Just like the Halting Problem, we **cannot predict for all cases** whether a webpage will load successfully.\n",
    "\n",
    "---\n",
    "\n",
    "## **Decidable Problems**\n",
    "A **decidable problem** is a problem for which an algorithm **can always** be written to provide a correct **yes/no** output for any input.\n",
    "\n",
    "### **Key Characteristics:**\n",
    "- An algorithm **exists** that solves every possible case of the problem.\n",
    "- The algorithm **always terminates** with a correct answer.\n",
    "- Example: Checking if a number is **divisible by 3**.\n",
    "\n",
    "### **Example: Checking Divisibility by 3**\n",
    "Below is a Python program that checks whether a number is divisible by 3:\n",
    "\n",
    "```python\n",
    "def is_divisible_by_3(n):\n",
    "    return n % 3 == 0\n",
    "\n",
    "# Example inputs and outputs\n",
    "print(is_divisible_by_3(9))   # Output: True\n",
    "print(is_divisible_by_3(10))  # Output: False\n",
    "print(is_divisible_by_3(21))  # Output: True\n"
   ]
  }
 ],
 "metadata": {
  "language_info": {
   "name": "python"
  }
 },
 "nbformat": 4,
 "nbformat_minor": 2
}
