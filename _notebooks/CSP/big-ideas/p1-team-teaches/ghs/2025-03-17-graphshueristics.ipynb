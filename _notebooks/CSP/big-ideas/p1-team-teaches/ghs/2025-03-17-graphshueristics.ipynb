{
 "cells": [
  {
   "cell_type": "markdown",
   "metadata": {},
   "source": [
    "---\n",
    "toc: true\n",
    "comments: false\n",
    "layout: post\n",
    "categories: [CSP Big Idea 4]\n",
    "title: Team Teach Group 1\n",
    "description: Graphs/Heuristics\n",
    "courses: { csp: {week: 13 } }\n",
    "type: ccc\n",
    "permalink: /csp/period1/graphsheuristics\n",
    "---"
   ]
  },
  {
   "cell_type": "markdown",
   "metadata": {},
   "source": [
    "<h1 style=\"color: white;\">Lesson: Graphs & Heuristics</h1>\n",
    "\n",
    "<h2 style=\"color: white;\">1. Introduction to Graphs</h2>  \n",
    "A **graph** is a data structure used to represent relationships between objects. A graph consists of:\n",
    "- **Nodes (Vertices):** The entities being connected.  \n",
    "- **Edges:** The connections or relationships between nodes.  \n",
    "<br><img alt=\"graph1\" src=\"/tri3frontend/images/graph1.png\">\n",
    "\n",
    "<h3 style=\"color: white;\">Real-World Example</h3>  \n",
    "- **Social Networks**: In Facebook, **friends** are the **nodes**, and the **edges** represent **friendships** between them.\n",
    "\n",
    "<h3 style=\"color: white;\">Types of Graphs</h3>  \n",
    "- **Directed Graphs:** Edges have direction (e.g., Twitter followers).  \n",
    "- **Undirected Graphs:** Edges are bidirectional (e.g., Facebook friendships).  \n",
    "- **Weighted Graphs:** Edges have values, such as distance or cost (e.g., road networks).  \n",
    "- **Unweighted Graphs:** All edges are considered equal.\n",
    "\n",
    "<h3 style=\"color: white;\">Applications of Graphs</h3>  \n",
    "- **Social Networks**: Connecting users and their relationships.  \n",
    "- **Navigation Systems**: Finding the shortest route in Google Maps (unweighted and weighted graphs).  \n",
    "- **Recommendation Systems**: Netflix suggesting movies based on connections between viewers and genres.\n",
    "\n",
    "<h3 style=\"color: white;\">Popcorn Hack #1</h3>"
   ]
  },
  {
   "cell_type": "markdown",
   "metadata": {},
   "source": [
    "<h2 style=\"color: white;\">2. Common Graph Algorithms</h2>\n",
    "\n",
    "<h3 style=\"color: white;\">1. Breadth-First Search (BFS)</h3>  \n",
    "- **How it works**: Explores all **neighboring** nodes first, then moves on to their neighbors, and so on.  \n",
    "- **Real-life Example**: Think of spreading a message through a network. You tell all your **immediate friends**, then they tell their friends, and so on.  \n",
    "- **Use Case**: Finding the **shortest path** in an **unweighted graph**.  \n",
    "\n",
    "<h3 style=\"color: white;\">2. Depth-First Search (DFS)</h3>  \n",
    "- **How it works**: Explores as **deeply** as possible along one path, backtracking when no further nodes can be explored. \n",
    "- **Real-life Example**: Exploring a maze—following one path all the way to the end before trying another one.  \n",
    "- **Use Case**: Solving puzzles like **Sudoku** or searching for connected components in a graph.  \n",
    "\n",
    "<h3 style=\"color: white;\">Popcorn Hack #2</h3>"
   ]
  },
  {
   "cell_type": "markdown",
   "metadata": {},
   "source": [
    "\n",
    "<h2 style=\"color: white;\">3. Heuristics</h2>  \n",
    "A **heuristic** is a problem-solving approach that **simplifies** the solution process by using rules of thumb, aiming for a \"good enough\" solution, not necessarily the optimal one. This concept is often applied in more complex problems.\n",
    "\n",
    "<h3 style=\"color: white;\">Real-World Example</h3>  \n",
    "Imagine looking for a book in a library:  \n",
    "- **Brute Force Approach**: Check every shelf one by one.(Checking every possible option until best one is found)\n",
    "- **Heuristic Approach**: Go directly to the **Science section** if you're looking for a science book.(Shortcut to solving a problem quickly when the perfect solution takes too long)\n",
    "\n",
    "<h3 style=\"color: white;\">Examples of Heuristic Algorithms</h3>  \n",
    "- **Greedy Algorithms**: Always choose the **best immediate** option, like picking the cheapest item first.  \n",
    "- **A* Search**: Finds the quickest path from one point to another by looking at both where you are right now and where you’re trying to go. It’s like trying to find the best route on a map, by considering both how far you've already traveled and how much farther you have to go.\n",
    "\n",
    "<h3 style=\"color: white;\">Real-World Application of Heuristics</h3>  \n",
    "- **Navigation**: In Google Maps, an approximation of the shortest route is calculated using heuristics.(A* search)\n",
    "\n",
    "<h3 style=\"color: white;\">Popcorn Hack #3</h3>"
   ]
  },
  {
   "cell_type": "markdown",
   "metadata": {},
   "source": [
    "## <span style=\"color: white;\">Traveling Salesman Problem</span>\n",
    "- A famous optimization problem in computer science and mathematics. It asks:\n",
    "\n",
    "\"Given a set of cities and the distances between them, what is the shortest possible route that visits each city exactly once and returns to the starting point?\"\n",
    "\n",
    "Small Example:\n",
    "<br><img alt=\"graph1\" src=\"/tri3frontend/images/graph1.png\">\n",
    "<br>The **greedy heuristic** (*Nearest Neighbor Algorithm*) would most likely be used, but it doesn’t always find the best solution. \n",
    "\n",
    "Large Example:\n",
    "<br><img alt=\"graph2\" src=\"/tri3frontend/images/graph2.jpg\" width= 500>\n",
    "\n",
    "## <span style=\"color: white;\">Why TSP is Hard</span>\n",
    "- If there are `n` cities, the number of possible routes is **(n-1)!**, so the number of possible paths grows exponentially as `n` increases. \n",
    "- That means **brute-force checking all routes is too slow** for large graphs.  \n",
    "\n",
    "### <span style=\"color: white;\">Example of Route Growth</span>\n",
    "- **Cities (n):** 4\n",
    "  - **Possible Routes ((n-1)!):** 6\n",
    "- **Cities (n):** 5\n",
    "  - **Possible Routes ((n-1)!):** 24\n",
    "- **Cities (n):** 10\n",
    "  - **Possible Routes ((n-1)!):** 3,628,800\n",
    "- **Cities (n):** 100\n",
    "  - **Possible Routes ((n-1)!):** More than the atoms in the universe\n"
   ]
  }
 ],
 "metadata": {
  "language_info": {
   "name": "python"
  }
 },
 "nbformat": 4,
 "nbformat_minor": 2
}
