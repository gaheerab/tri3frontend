{
 "cells": [
  {
   "cell_type": "markdown",
   "metadata": {},
   "source": [
    "---\n",
    "toc: true\n",
    "comments: false\n",
    "layout: post\n",
    "categories: [CSP Big Idea 4]\n",
    "title: Team Teach Group 1\n",
    "description: Undecidable Problems & Graphs/Heuristics\n",
    "courses: { csp: {week: 13 } }\n",
    "type: ccc\n",
    "---"
   ]
  },
  {
   "cell_type": "markdown",
   "metadata": {},
   "source": [
    "##"
   ]
  },
  {
   "cell_type": "markdown",
   "metadata": {},
   "source": [
    "## Intro to Undecidable Problems and Graph + Heuristics\n",
    "- \n"
   ]
  },
  {
   "cell_type": "markdown",
   "metadata": {},
   "source": [
    "## Navigation\n",
    "- [📄 Undecidable Problems](2025-17-03-undecidableproblems.ipynb)\n",
    "- [📊 Graphs + Hueristics](2025-17-03-graphshueristics.ipynb)\n"
   ]
  }
 ],
 "metadata": {
  "language_info": {
   "name": "python"
  }
 },
 "nbformat": 4,
 "nbformat_minor": 2
}
