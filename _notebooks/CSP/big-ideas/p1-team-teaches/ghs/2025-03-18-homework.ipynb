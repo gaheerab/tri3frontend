{
 "cells": [
  {
   "cell_type": "markdown",
   "metadata": {},
   "source": [
    "---\n",
    "toc: true\n",
    "comments: false\n",
    "layout: post\n",
    "categories: [CSP Big Idea 4]\n",
    "title: Team Teach Group 1\n",
    "description: Undecidable Problems and Graphs/Heuristics Homework\n",
    "courses: { csp: {week: 13 } }\n",
    "type: ccc\n",
    "permalink: /csp/period1/Problems&GraphsHomework\n",
    "---"
   ]
  },
  {
   "cell_type": "markdown",
   "metadata": {},
   "source": [
    "## Undecideable Problems Homework: \n",
    "\n",
    "Question/research: \n",
    "\n",
    "Investigate and describe how modern operating systems and browsers handle infinite loops or excessively long-running scripts. What mechanisms are in place to detect and mitigate such issues? Provide real-world examples of these mechanisms in action, such as specific error messages, timeouts, or automated recovery processes.\n"
   ]
  },
  {
   "cell_type": "markdown",
   "metadata": {},
   "source": [
    "## Graphs and Heuristics: \n",
    "\n",
    "Question/research: \n",
    "\n",
    "Explore the concept of \"Social Network Analysis\" and explain how graphs are used in analyzing social media platforms. Specifically, focus on:\n",
    "\n",
    "- How are users (nodes) and relationships (edges) represented in social networks?\n",
    "\n",
    "- Provide one example of a real-world social media platform where graph theory plays a crucial role.\n",
    "\n"
   ]
  },
  {
   "cell_type": "markdown",
   "metadata": {
    "vscode": {
     "languageId": "plaintext"
    }
   },
   "source": [
    "<script src=\"https://utteranc.es/client.js\"\n",
    "        repo=\"gaheerab/tri3frontend\"\n",
    "        issue-term=\"pathname\"\n",
    "        theme=\"github-light\"\n",
    "        crossorigin=\"anonymous\"\n",
    "        async>\n",
    "</script>"
   ]
  }
 ],
 "metadata": {
  "language_info": {
   "name": "python"
  }
 },
 "nbformat": 4,
 "nbformat_minor": 2
}
