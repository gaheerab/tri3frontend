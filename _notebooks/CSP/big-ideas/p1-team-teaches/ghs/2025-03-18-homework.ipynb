{
 "cells": [
  {
   "cell_type": "markdown",
   "metadata": {},
   "source": [
    "---\n",
    "toc: true\n",
    "comments: false\n",
    "layout: post\n",
    "categories: [CSP Big Idea 4]\n",
    "title: Team Teach Group 1\n",
    "description: Undecidable Problems and Graphs/Heuristics Homework\n",
    "courses: { csp: {week: 13 } }\n",
    "type: ccc\n",
    "permalink: /csp/period1/Problems&GraphsHomework\n",
    "---"
   ]
  }
 ],
 "metadata": {
  "language_info": {
   "name": "python"
  }
 },
 "nbformat": 4,
 "nbformat_minor": 2
}
